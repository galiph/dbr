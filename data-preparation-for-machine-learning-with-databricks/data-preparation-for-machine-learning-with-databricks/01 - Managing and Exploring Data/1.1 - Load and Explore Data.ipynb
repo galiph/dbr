{
 "cells": [
  {
   "cell_type": "markdown",
   "metadata": {
    "application/vnd.databricks.v1+cell": {
     "cellMetadata": {},
     "inputWidgets": {},
     "nuid": "0e94d66c-c320-48bf-9a61-57073b65aed0",
     "showTitle": false,
     "title": ""
    }
   },
   "source": [
    "\n",
    "<div style=\"text-align: center; line-height: 0; padding-top: 9px;\">\n",
    "  <img src=\"https://databricks.com/wp-content/uploads/2018/03/db-academy-rgb-1200px.png\" alt=\"Databricks Learning\" style=\"width: 600px\">\n",
    "</div>"
   ]
  },
  {
   "cell_type": "markdown",
   "metadata": {
    "application/vnd.databricks.v1+cell": {
     "cellMetadata": {},
     "inputWidgets": {},
     "nuid": "405b6eee-c03f-41f9-ab89-730d872ca171",
     "showTitle": false,
     "title": ""
    }
   },
   "source": [
    "\n",
    "# Managing and Exploring Data\n",
    "\n",
    "The ability to efficiently handle and explore data is paramount for machine learning projects. In this demo, we'll delve into techniques such as reading from and writing to Delta tables, computing statistics for machine learning insights, and visually exploring data for a comprehensive understanding of your datasets.\n",
    "\n",
    "**Learning Objectives:**\n",
    "\n",
    "By the end of this demo, you will be able to:\n",
    "\n",
    "* Read data from a Delta table into a pandas DataFrame.\n",
    "* Read a previous version of data from a Delta table.\n",
    "* Write data from a DataFrame into a Delta table.\n",
    "* Compute summary statistics on data for machine learning using data profiles.\n",
    "* Compute a correlation matrix for columns/features in machine learning data.\n",
    "* Visually explore data using built-in visualization capabilities to examine outliers, continuous variable distributions, and categorical variable distributions.\n"
   ]
  },
  {
   "cell_type": "markdown",
   "metadata": {
    "application/vnd.databricks.v1+cell": {
     "cellMetadata": {},
     "inputWidgets": {},
     "nuid": "718f09cc-589d-4746-a944-53cfdb9338b5",
     "showTitle": false,
     "title": ""
    }
   },
   "source": [
    "## Requirements\n",
    "\n",
    "Please review the following requirements before starting the lesson:\n",
    "\n",
    "* To run this notebook, you need to use one of the following Databricks runtime(s): **13.3.x-cpu-ml-scala2.12**"
   ]
  },
  {
   "cell_type": "markdown",
   "metadata": {
    "application/vnd.databricks.v1+cell": {
     "cellMetadata": {},
     "inputWidgets": {},
     "nuid": "82cfeb6b-abf0-4513-908b-247e019d3def",
     "showTitle": false,
     "title": ""
    }
   },
   "source": [
    "\n",
    "## Classroom Setup\n",
    "\n",
    "Before starting the demo, run the provided classroom setup script. This script will define configuration variables necessary for the demo. Execute the following cell:"
   ]
  },
  {
   "cell_type": "code",
   "execution_count": 0,
   "metadata": {
    "application/vnd.databricks.v1+cell": {
     "cellMetadata": {
      "byteLimit": 2048000,
      "rowLimit": 10000
     },
     "inputWidgets": {},
     "nuid": "1d5e0624-3924-4798-a1d8-31ce9a0b7908",
     "showTitle": false,
     "title": ""
    }
   },
   "outputs": [],
   "source": [
    "%run ../Includes/Classroom-Setup-01"
   ]
  },
  {
   "cell_type": "markdown",
   "metadata": {
    "application/vnd.databricks.v1+cell": {
     "cellMetadata": {},
     "inputWidgets": {},
     "nuid": "8b42db16-bc04-4727-b027-3dc6a86809ef",
     "showTitle": false,
     "title": ""
    }
   },
   "source": [
    "**Other Conventions:**\n",
    "\n",
    "Throughout this demo, we'll refer to the object `DA`. This object, provided by Databricks Academy, contains variables such as your username, catalog name, schema name, working directory, and dataset locations. Run the code block below to view these details:"
   ]
  },
  {
   "cell_type": "code",
   "execution_count": 0,
   "metadata": {
    "application/vnd.databricks.v1+cell": {
     "cellMetadata": {
      "byteLimit": 2048000,
      "rowLimit": 10000
     },
     "inputWidgets": {},
     "nuid": "7f4363b9-471d-4202-9474-af551181dc04",
     "showTitle": false,
     "title": ""
    }
   },
   "outputs": [],
   "source": [
    "print(f\"Username:          {DA.username}\")\n",
    "print(f\"Catalog Name:      {DA.catalog_name}\")\n",
    "print(f\"Schema Name:       {DA.schema_name}\")\n",
    "print(f\"Working Directory: {DA.paths.working_dir}\")\n",
    "print(f\"Datasets Location: {DA.paths.datasets}\")"
   ]
  },
  {
   "cell_type": "markdown",
   "metadata": {
    "application/vnd.databricks.v1+cell": {
     "cellMetadata": {},
     "inputWidgets": {},
     "nuid": "5743f54a-2c23-4090-a5c7-c3b11e9e5ea0",
     "showTitle": false,
     "title": ""
    }
   },
   "source": [
    "## Read Dataset from `.csv` File"
   ]
  },
  {
   "cell_type": "code",
   "execution_count": 0,
   "metadata": {
    "application/vnd.databricks.v1+cell": {
     "cellMetadata": {
      "byteLimit": 2048000,
      "rowLimit": 10000
     },
     "inputWidgets": {},
     "nuid": "5500401e-e331-4aa2-90c4-aa9eef7eec6e",
     "showTitle": false,
     "title": ""
    }
   },
   "outputs": [],
   "source": [
    "f\"{DA.paths.datasets}/telco/telco-customer-churn-missing.csv\""
   ]
  },
  {
   "cell_type": "code",
   "execution_count": 0,
   "metadata": {
    "application/vnd.databricks.v1+cell": {
     "cellMetadata": {
      "byteLimit": 2048000,
      "rowLimit": 10000
     },
     "inputWidgets": {},
     "nuid": "217859da-871d-4b53-883c-5c8e9657e1cd",
     "showTitle": false,
     "title": ""
    }
   },
   "outputs": [
    {
     "output_type": "display_data",
     "data": {
      "text/plain": [
       "Databricks visualization. Run in Databricks to view."
      ]
     },
     "metadata": {
      "application/vnd.databricks.v1.subcommand+json": {
       "baseErrorDetails": null,
       "bindings": {},
       "collapsed": false,
       "command": "# Load dataset with spark\ndataset_path = f\"{DA.paths.datasets}/telco/telco-customer-churn-missing.csv\"\n\nschema_string = \"\"\"\n    customerID string,\n    gender string,\n    SeniorCitizen double,\n    Partner string,\n    Dependents string,\n    tenure double,\n    phoneService string,\n    MultipleLines string,\n    internetService string,\n    OnlineSecurity string,\n    OnlineBackup string,\n    DeviceProtection string,\n    TechSupport string,\n    StreamingTV string,\n    StreamingMovies string,\n    Contract string,\n    PaperlessBilling string,\n    PaymentMethod string,\n    MonthlyCharges double,\n    TotalCharges double,\n    Churn string\n\"\"\"\n\ntelco_df = spark.read.csv(dataset_path, \\\n                          header=True,\n                          schema=schema_string,\n                          multiLine=True,\n                          escape='\"')\n\ndisplay(telco_df)\n",
       "commandTitle": "Visualization 1",
       "commandType": "auto",
       "commandVersion": 0,
       "commentThread": [],
       "commentsVisible": false,
       "contentSha256Hex": null,
       "customPlotOptions": {
        "redashChart": [
         {
          "key": "type",
          "value": "WORD_CLOUD"
         },
         {
          "key": "options",
          "value": {
           "column": "PaymentMethod",
           "frequenciesColumn": "",
           "wordCountLimit": {
            "max": null,
            "min": null
           },
           "wordLengthLimit": {
            "max": null,
            "min": null
           }
          }
         }
        ]
       },
       "datasetPreviewNameToCmdIdMap": {},
       "diffDeletes": [],
       "diffInserts": [],
       "displayType": "redashChart",
       "error": null,
       "errorDetails": null,
       "errorSummary": null,
       "errorTraceType": null,
       "finishTime": 0,
       "globalVars": {},
       "guid": "",
       "height": "auto",
       "hideCommandCode": false,
       "hideCommandResult": false,
       "iPythonMetadata": null,
       "inputWidgets": {},
       "isLockedInExamMode": false,
       "latestUser": "a user",
       "latestUserId": null,
       "listResultMetadata": null,
       "metadata": {},
       "nuid": "9aac0a49-2480-4e43-b34f-041bad2334ee",
       "origId": 0,
       "parentHierarchy": [],
       "pivotAggregation": null,
       "pivotColumns": null,
       "position": 11.0,
       "resultDbfsErrorMessage": null,
       "resultDbfsStatus": "INLINED_IN_TREE",
       "results": null,
       "showCommandTitle": false,
       "startTime": 0,
       "state": "input",
       "streamStates": {},
       "subcommandOptions": {},
       "submitTime": 0,
       "subtype": "tableResultSubCmd.visualization",
       "tableResultIndex": 0,
       "tableResultSettingsMap": null,
       "useConsistentColors": false,
       "version": "CommandV1",
       "width": "auto",
       "workflows": null,
       "xColumns": null,
       "yColumns": null
      }
     },
     "output_type": "display_data"
    }
   ],
   "source": [
    "# Load dataset with spark\n",
    "dataset_path = f\"{DA.paths.datasets}/telco/telco-customer-churn-missing.csv\"\n",
    "\n",
    "schema_string = \"\"\"\n",
    "    customerID string,\n",
    "    gender string,\n",
    "    SeniorCitizen double,\n",
    "    Partner string,\n",
    "    Dependents string,\n",
    "    tenure double,\n",
    "    phoneService string,\n",
    "    MultipleLines string,\n",
    "    internetService string,\n",
    "    OnlineSecurity string,\n",
    "    OnlineBackup string,\n",
    "    DeviceProtection string,\n",
    "    TechSupport string,\n",
    "    StreamingTV string,\n",
    "    StreamingMovies string,\n",
    "    Contract string,\n",
    "    PaperlessBilling string,\n",
    "    PaymentMethod string,\n",
    "    MonthlyCharges double,\n",
    "    TotalCharges double,\n",
    "    Churn string\n",
    "\"\"\"\n",
    "\n",
    "telco_df = spark.read.csv(dataset_path, \\\n",
    "                          header=True,\n",
    "                          schema=schema_string,\n",
    "                          multiLine=True,\n",
    "                          escape='\"')\n",
    "\n",
    "display(telco_df)\n"
   ]
  },
  {
   "cell_type": "markdown",
   "metadata": {
    "application/vnd.databricks.v1+cell": {
     "cellMetadata": {},
     "inputWidgets": {},
     "nuid": "28e5552a-2c67-4a70-84e9-c6d62ccb1099",
     "showTitle": false,
     "title": ""
    }
   },
   "source": [
    "## Explore Data with Summary Stats\n",
    "\n",
    "While using notebooks, you have various options to view summary statistics for dataset. Some of these options are:\n",
    "\n",
    "* using spark DataFrame's built-in method (e.g. `summary()`)\n",
    "* using databricks' utility methods (e.g. `dbutils.data.summarize()`)\n",
    "* using databricks' built-in data profiler/visualizations\n",
    "* using external libraries such as `matplotlib`\n",
    "\n",
    "\n",
    "In this section we will go over the Spark's and Databricks' built-in features for summarizing data. In the next section, we will explore the visualization options."
   ]
  },
  {
   "cell_type": "markdown",
   "metadata": {
    "application/vnd.databricks.v1+cell": {
     "cellMetadata": {},
     "inputWidgets": {},
     "nuid": "1548fb72-865b-4619-83ce-811f54d27780",
     "showTitle": false,
     "title": ""
    }
   },
   "source": [
    "\n",
    "The first and simplest way is using Spark's `summary` function."
   ]
  },
  {
   "cell_type": "code",
   "execution_count": 0,
   "metadata": {
    "application/vnd.databricks.v1+cell": {
     "cellMetadata": {
      "byteLimit": 2048000,
      "rowLimit": 10000
     },
     "inputWidgets": {},
     "nuid": "79a89170-ad65-4df7-bc85-1a68f61ecfb7",
     "showTitle": false,
     "title": ""
    }
   },
   "outputs": [
    {
     "output_type": "display_data",
     "data": {
      "text/plain": [
       "Databricks data profile. Run in Databricks to view."
      ]
     },
     "metadata": {
      "application/vnd.databricks.v1.subcommand+json": {
       "baseErrorDetails": null,
       "bindings": {},
       "collapsed": false,
       "command": "%python\nif hasattr(dbutils, \"data\") and hasattr(dbutils.data, \"summarize\"):\n  # setup\n  __data_summary_display_orig = display\n  __data_summary_dfs = []\n  def __data_summary_display_new(df):\n    # add only when result is going to be table type\n    __data_summary_df_modules = [\"pandas.core.frame\", \"databricks.koalas.frame\", \"pyspark.sql.dataframe\", \"pyspark.pandas.frame\", \"pyspark.sql.connect.dataframe\"]\n    if (type(df).__module__ in __data_summary_df_modules and type(df).__name__ == 'DataFrame') or isinstance(df, list):\n      __data_summary_dfs.append(df)\n  display = __data_summary_display_new\n\n  def __data_summary_user_code_fn():\n    import base64\n    exec(base64.standard_b64decode(\"IyBEaXNwbGF5IHN1bW1hcnkgc3RhdGlzdGljcyB3aXRoIHNwYXJrCmRpc3BsYXkodGVsY29fZGYuc3VtbWFyeSgpKQ==\").decode())\n\n  try:\n    # run user code\n    __data_summary_user_code_fn()\n\n    # run on valid tableResultIndex\n    if len(__data_summary_dfs) > 0:\n      # run summarize\n      if type(__data_summary_dfs[0]).__module__ == \"databricks.koalas.frame\":\n        # koalas dataframe\n        dbutils.data.summarize(__data_summary_dfs[0].to_spark())\n      elif type(__data_summary_dfs[0]).__module__ == \"pandas.core.frame\":\n        # pandas dataframe\n        dbutils.data.summarize(spark.createDataFrame(__data_summary_dfs[0]))\n      else:\n        dbutils.data.summarize(__data_summary_dfs[0])\n    else:\n        displayHTML(\"dataframe no longer exists. If you're using dataframe.display(), use display(dataframe) instead.\")\n\n  finally:\n    display = __data_summary_display_orig\n    del __data_summary_display_new\n    del __data_summary_display_orig\n    del __data_summary_dfs\n    del __data_summary_user_code_fn\nelse:\n  print(\"This DBR version does not support data profiles.\")",
       "commandTitle": "Data Profile 1",
       "commandType": "auto",
       "commandVersion": 0,
       "commentThread": [],
       "commentsVisible": false,
       "contentSha256Hex": null,
       "customPlotOptions": {},
       "datasetPreviewNameToCmdIdMap": {},
       "diffDeletes": [],
       "diffInserts": [],
       "displayType": "table",
       "error": null,
       "errorDetails": null,
       "errorSummary": null,
       "errorTraceType": null,
       "finishTime": 1727038748419,
       "globalVars": {},
       "guid": "",
       "height": "auto",
       "hideCommandCode": false,
       "hideCommandResult": false,
       "iPythonMetadata": null,
       "inputWidgets": {},
       "isLockedInExamMode": false,
       "latestUser": "a user",
       "latestUserId": null,
       "listResultMetadata": [
        [
         "mimeBundle",
         null
        ]
       ],
       "metadata": {
        "byteLimit": 2048000,
        "rowLimit": 10000
       },
       "nuid": "e4c86d5b-bd92-459a-8f83-948d0163de38",
       "origId": 0,
       "parentHierarchy": [],
       "pivotAggregation": null,
       "pivotColumns": null,
       "position": 14.0,
       "resultDbfsErrorMessage": null,
       "resultDbfsStatus": "INLINED_IN_TREE",
       "results": null,
       "showCommandTitle": false,
       "startTime": 1727038742094,
       "state": "input",
       "streamStates": {},
       "subcommandOptions": null,
       "submitTime": 1727038742037,
       "subtype": "tableResultSubCmd.dataSummary",
       "tableResultIndex": 0,
       "tableResultSettingsMap": null,
       "useConsistentColors": false,
       "version": "CommandV1",
       "width": "auto",
       "workflows": null,
       "xColumns": null,
       "yColumns": null
      }
     },
     "output_type": "display_data"
    }
   ],
   "source": [
    "# Display summary statistics with spark\n",
    "display(telco_df.summary())"
   ]
  },
  {
   "cell_type": "markdown",
   "metadata": {
    "application/vnd.databricks.v1+cell": {
     "cellMetadata": {},
     "inputWidgets": {},
     "nuid": "b5482628-dadd-4140-80fa-df775c869e0b",
     "showTitle": false,
     "title": ""
    }
   },
   "source": [
    "Another way of displaying summary statistics is to use Databricks' `summarize` function. The **`summarize`** function automatically generates a comprehensive report for the dataframe. This report encompasses crucial statistics, data types, and the presence of missing values, providing a holistic view of the dataset\n",
    "\n",
    "Within this generated summary, the interactive features allow us to sort the information by various criteria:\n",
    "\n",
    "* Feature Order\n",
    "* Non-Uniformity\n",
    "* Alphabetical\n",
    "* Amount Missing/Zero\n",
    "\n",
    "Furthermore, leveraging the datatype information, we can selectively filter out specific datatypes for in-depth analysis. This functionality enables us to create charts tailored to our analytical preferences, facilitating a deeper understanding of the dataframe and extracting valuable insights."
   ]
  },
  {
   "cell_type": "code",
   "execution_count": 0,
   "metadata": {
    "application/vnd.databricks.v1+cell": {
     "cellMetadata": {
      "byteLimit": 2048000,
      "rowLimit": 10000
     },
     "inputWidgets": {},
     "nuid": "4a793cee-4ba3-4652-b15b-e261f2f19673",
     "showTitle": false,
     "title": ""
    }
   },
   "outputs": [],
   "source": [
    "dbutils.data.summarize(telco_df)"
   ]
  },
  {
   "cell_type": "markdown",
   "metadata": {
    "application/vnd.databricks.v1+cell": {
     "cellMetadata": {},
     "inputWidgets": {},
     "nuid": "53327943-f582-49b8-a316-42b029c06764",
     "showTitle": false,
     "title": ""
    }
   },
   "source": [
    "\n",
    "The **`Display`** function not only facilitates the viewing of detailed dataframes but also serves as a powerful tool for visualizing our dataset according to individual preferences. Whether opting for a Pie Chart or a Bar Chart, this functionality allows for a more insightful exploration, uncovering dependencies and patterns within the dataframe features."
   ]
  },
  {
   "cell_type": "code",
   "execution_count": 0,
   "metadata": {
    "application/vnd.databricks.v1+cell": {
     "cellMetadata": {},
     "inputWidgets": {},
     "nuid": "1172744b-29b4-4772-9d1a-2a78a02d5dd3",
     "showTitle": false,
     "title": ""
    }
   },
   "outputs": [],
   "source": [
    "display(telco_df)"
   ]
  },
  {
   "cell_type": "markdown",
   "metadata": {
    "application/vnd.databricks.v1+cell": {
     "cellMetadata": {},
     "inputWidgets": {},
     "nuid": "f6ba3342-5afd-4e27-b8bf-20095c485eff",
     "showTitle": false,
     "title": ""
    }
   },
   "source": [
    "\n",
    "## Data Visualization\n",
    "\n",
    "In this section, we will explore two different methods for exploring data with visualization tools. The first option is the Databricks' rich and interactive visualization capabilities. The second option is to use an external library when you need custom visualizations that are not available in Databricks' visualization tools. "
   ]
  },
  {
   "cell_type": "markdown",
   "metadata": {
    "application/vnd.databricks.v1+cell": {
     "cellMetadata": {},
     "inputWidgets": {},
     "nuid": "a101b54a-b72d-4455-a10f-bcef47da083a",
     "showTitle": false,
     "title": ""
    }
   },
   "source": [
    "\n",
    "### Integrated Visualization\n",
    "\n",
    "Let's enhance our understanding of the Telco dataset through integrated visualizations. Below are instructions to create key visualizations that reveal patterns, relationships, and distributions in the data."
   ]
  },
  {
   "cell_type": "markdown",
   "metadata": {
    "application/vnd.databricks.v1+cell": {
     "cellMetadata": {},
     "inputWidgets": {},
     "nuid": "08b0119f-adac-42d3-a38c-c00e480ad2c3",
     "showTitle": false,
     "title": ""
    }
   },
   "source": [
    "#### Step-by-Step instructions for creating visualizations using a visualization editor:\n",
    "\n",
    "**Step 1: Open Visualization Editor:**\n",
    "  +  Click on the '+' button or choose the 'Visualizations' option to open the visualization editor.\n",
    "\n",
    "**Step 2: Select Visualization Type:**\n",
    "  +  In the visualization editor, find the dropdown menu or toolbar that allows you to choose the type of graph or plot you want (e.g., bar chart, scatter plot, line chart).\n",
    "\n",
    "**Step 3: Choose X and Y Columns:**  \n",
    "  +  Once you've selected the type of visualization, look for options to choose the 'X' and 'Y' columns.\n",
    "  +  Select the column you want to represent on the horizontal axis ('X') and the column for the vertical axis ('Y').\n",
    "\n",
    "**Step 4: Group By (Optional):**  \n",
    "  +  If you want to group the data by a specific column, look for the 'Group By' option.\n",
    "  + Choose a column that will define the groups in your visualization.\n",
    "\n",
    "**Step 5: Customize Axis and Color:**  \n",
    "  + Depending on the tool, you may have additional customization options.\n",
    "  + Explore settings for customizing the X-axis and Y-axis labels, color schemes, and other visual attributes.\n",
    "\n",
    "**Step 6: Add Additional Parameters (Optional):**\n",
    "  + Depending on the complexity of your data and the visualization tool, you might have additional options like selecting columns for the color, series, or data labels.\n",
    "  + Customize these parameters based on your visualization requirements.\n",
    "\n",
    "**Step 7: Preview and Adjust:**\n",
    "  + Preview the visualization to see how it looks.\n",
    "  + If necessary, make adjustments to the settings until you achieve the desired visual representation.\n",
    "\n",
    "**Step 8: Save or Export:**\n",
    "  + Once satisfied with the visualization, look for options to save or export the visualization.\n",
    "  + Save it for future reference or export it in a format suitable for presentations or reports."
   ]
  },
  {
   "cell_type": "code",
   "execution_count": 0,
   "metadata": {
    "application/vnd.databricks.v1+cell": {
     "cellMetadata": {
      "byteLimit": 2048000,
      "rowLimit": 10000
     },
     "inputWidgets": {},
     "nuid": "b58853f2-3e6b-48dc-a482-a3700ac45013",
     "showTitle": false,
     "title": ""
    }
   },
   "outputs": [],
   "source": [
    "display(telco_df)"
   ]
  },
  {
   "cell_type": "markdown",
   "metadata": {
    "application/vnd.databricks.v1+cell": {
     "cellMetadata": {},
     "inputWidgets": {},
     "nuid": "15937902-ead4-4641-a156-c3b596e18440",
     "showTitle": false,
     "title": ""
    }
   },
   "source": [
    "### Exploring Data with Custom Aggregation\n",
    "\n",
    "Taking a closer look at `PaymentMethod`, let's review the distribution of the data for this column by calculating aggregated counts per payment type.  \n",
    "\n",
    "In this section, we utilize the **`groupBy`** and **`count`** functions to analyze the distribution of payment methods in the Telco Churn dataset. The `orderBy` clause is applied to present the results in an organized manner, providing insights into the frequency of each payment method within the dataset."
   ]
  },
  {
   "cell_type": "code",
   "execution_count": 0,
   "metadata": {
    "application/vnd.databricks.v1+cell": {
     "cellMetadata": {
      "byteLimit": 2048000,
      "rowLimit": 10000
     },
     "inputWidgets": {},
     "nuid": "77c257bb-2505-41e6-a66c-b62b21e7b666",
     "showTitle": false,
     "title": ""
    }
   },
   "outputs": [],
   "source": [
    "display(telco_df.groupBy(\"PaymentMethod\").count().orderBy(\"count\", ascending=False))"
   ]
  },
  {
   "cell_type": "markdown",
   "metadata": {
    "application/vnd.databricks.v1+cell": {
     "cellMetadata": {},
     "inputWidgets": {},
     "nuid": "772241f5-bcec-44ff-9e2b-fbd2d03f369a",
     "showTitle": false,
     "title": ""
    }
   },
   "source": [
    "\n",
    "### External Visualization Tools\n",
    "\n",
    "You can use any external visualization library to create custom visualization In this demo, we will use popular python library `seaborn` and `matplotlib` for creating custom visualizations.\n",
    "\n",
    "**First, we will convert the DataFrame to Pandas.**"
   ]
  },
  {
   "cell_type": "markdown",
   "metadata": {
    "application/vnd.databricks.v1+cell": {
     "cellMetadata": {},
     "inputWidgets": {},
     "nuid": "1bd05292-7476-467f-98d6-86dfdb289691",
     "showTitle": false,
     "title": ""
    }
   },
   "source": [
    "\n",
    "**Observation: Identifying Payment Method Distribution**\n",
    "\n",
    "Through the groupBy command on the \"`PaymentMethod`\" column, we observe the distribution of payment methods within the Telco Churn dataset. The result reveals that **Electronic check** is the most frequently used method, while other methods such as Bank transfer and Credit card (automatic) also exhibit substantial usage. \n",
    "\n",
    "Additionally, there are **704 instances with missing payment method** information."
   ]
  },
  {
   "cell_type": "code",
   "execution_count": 0,
   "metadata": {
    "application/vnd.databricks.v1+cell": {
     "cellMetadata": {},
     "inputWidgets": {},
     "nuid": "d6d8e188-667d-4b52-b9aa-491af1f61836",
     "showTitle": false,
     "title": ""
    }
   },
   "outputs": [],
   "source": [
    "# Convert to pandas dataframe \n",
    "telco_pdf = telco_df.toPandas()"
   ]
  },
  {
   "cell_type": "code",
   "execution_count": 0,
   "metadata": {
    "application/vnd.databricks.v1+cell": {
     "cellMetadata": {},
     "inputWidgets": {},
     "nuid": "6e57fc4a-fe09-4359-bf91-2222f39323f0",
     "showTitle": false,
     "title": ""
    }
   },
   "outputs": [],
   "source": [
    "display(telco_pdf)"
   ]
  },
  {
   "cell_type": "markdown",
   "metadata": {
    "application/vnd.databricks.v1+cell": {
     "cellMetadata": {},
     "inputWidgets": {},
     "nuid": "98ab52d7-8234-463b-80dd-874d75d94aea",
     "showTitle": false,
     "title": ""
    }
   },
   "source": [
    "\n",
    "#### 1. Correlation Heatmap\n",
    "\n",
    "We will import the **`seaborn`** library, to create a correlation heatmap to visually represent the correlation matrix among numerical features. This provides insights into the strength and direction of relationships between variables."
   ]
  },
  {
   "cell_type": "code",
   "execution_count": 0,
   "metadata": {
    "application/vnd.databricks.v1+cell": {
     "cellMetadata": {},
     "inputWidgets": {},
     "nuid": "d5d8db7a-d93e-49d5-9158-cf892f2a9482",
     "showTitle": false,
     "title": ""
    }
   },
   "outputs": [],
   "source": [
    "import pandas as pd\n",
    "import seaborn as sns\n",
    "import matplotlib.pyplot as plt\n",
    "\n",
    "\n",
    "# Select columns that are the numerical columns\n",
    "selected_columns = ['tenure', 'TotalCharges', 'MonthlyCharges']\n",
    "\n",
    "# Select the specified columns from the DataFrame\n",
    "telco_corr = telco_pdf[selected_columns].corr()\n",
    "\n",
    "# Create a heatmap using seaborn\n",
    "plt.figure(figsize=(10, 6))\n",
    "sns.heatmap(telco_corr, annot=True, cmap='coolwarm', linewidths=.5)\n",
    "plt.title('Correlation Heatmap for Telco Dataset')\n",
    "plt.show()\n"
   ]
  },
  {
   "cell_type": "markdown",
   "metadata": {
    "application/vnd.databricks.v1+cell": {
     "cellMetadata": {},
     "inputWidgets": {},
     "nuid": "a1ef7784-2eab-46e9-a664-2449f9bc791f",
     "showTitle": false,
     "title": ""
    }
   },
   "source": [
    "#### 2. Pairplot for Numerical Variables:\n",
    "\n",
    "Generate a pairplot to visualize relationships between **numerical variables**. This provides a quick overview of how features interact and whether certain patterns emerge based on the `'Churn'` status.\n"
   ]
  },
  {
   "cell_type": "code",
   "execution_count": 0,
   "metadata": {
    "application/vnd.databricks.v1+cell": {
     "cellMetadata": {},
     "inputWidgets": {},
     "nuid": "cf96cbaa-d284-45fd-bc89-f1049d390394",
     "showTitle": false,
     "title": ""
    }
   },
   "outputs": [],
   "source": [
    "# Select columns that are the numerical columns\n",
    "selected_columns = ['tenure', 'TotalCharges', 'MonthlyCharges']\n",
    "\n",
    "# Select the specified columns from the DataFrame\n",
    "telco_ppdf = telco_pdf[selected_columns + ['Churn']]\n",
    "\n",
    "# Pairplot for a quick overview of relationships between numerical variables\n",
    "sns.pairplot(telco_ppdf, hue='Churn', diag_kind='kde')\n",
    "plt.suptitle('Pairplot for Telco Dataset', y=1.02)\n",
    "plt.show()"
   ]
  },
  {
   "cell_type": "markdown",
   "metadata": {
    "application/vnd.databricks.v1+cell": {
     "cellMetadata": {},
     "inputWidgets": {},
     "nuid": "9ed30bd1-f16d-4b47-8d23-0aa282729366",
     "showTitle": false,
     "title": ""
    }
   },
   "source": [
    "\n",
    "#### 3. Boxplot for Monthly Charges by Churn:\n",
    "\n",
    "Create a boxplot to visually compare the distribution of monthly charges between customers who churned and those who didn't."
   ]
  },
  {
   "cell_type": "code",
   "execution_count": 0,
   "metadata": {
    "application/vnd.databricks.v1+cell": {
     "cellMetadata": {},
     "inputWidgets": {},
     "nuid": "d7715a5b-baeb-4867-8e7c-6786acca335a",
     "showTitle": false,
     "title": ""
    }
   },
   "outputs": [],
   "source": [
    "# Boxplot for visualizing the distribution of Monthly Charges by Churn\n",
    "plt.figure(figsize=(10, 6))\n",
    "sns.boxplot(x='Churn', y='MonthlyCharges', data=telco_pdf)\n",
    "plt.title('Monthly Charges Distribution by Churn Status')\n",
    "plt.show()"
   ]
  },
  {
   "cell_type": "markdown",
   "metadata": {
    "application/vnd.databricks.v1+cell": {
     "cellMetadata": {},
     "inputWidgets": {},
     "nuid": "7086389b-344a-4078-8a57-7cbef048724c",
     "showTitle": false,
     "title": ""
    }
   },
   "source": [
    "Write dataframe to delta (bronze) table"
   ]
  },
  {
   "cell_type": "code",
   "execution_count": 0,
   "metadata": {
    "application/vnd.databricks.v1+cell": {
     "cellMetadata": {},
     "inputWidgets": {},
     "nuid": "cc9664d2-99b4-401c-9d67-ace3e1ccbfc9",
     "showTitle": false,
     "title": ""
    }
   },
   "outputs": [],
   "source": [
    "# Specify the desired name for the table\n",
    "table_name_bronze = \"telco_missing_bronze\"\n",
    "telco_df.write.saveAsTable(table_name_bronze) # will be stored under default catalog and schema"
   ]
  },
  {
   "cell_type": "markdown",
   "metadata": {
    "application/vnd.databricks.v1+cell": {
     "cellMetadata": {},
     "inputWidgets": {},
     "nuid": "bfce640d-45c8-4d93-8097-41c01b867119",
     "showTitle": false,
     "title": ""
    }
   },
   "source": [
    "\n",
    "## Time-Travel with Delta\n",
    "\n",
    "Now, let's explore the fascinating concept of time-travel with Delta. Here, we're delving into versioning, allowing us to read a specific or previous version of our dataset. It's a powerful feature, but in the realm of machine learning, caution is advised. \n",
    "\n",
    "**💡 Note:** While versioning can be crucial for reproducibility, **it may pose challenges for ML, where experiments often span longer timeframes than typical data retention periods**. The delicate balance between versioning and ML practices is a topic to tread carefully, keeping in mind potential drawbacks when utilizing previous dataset versions."
   ]
  },
  {
   "cell_type": "code",
   "execution_count": 0,
   "metadata": {
    "application/vnd.databricks.v1+cell": {
     "cellMetadata": {},
     "inputWidgets": {},
     "nuid": "8942ba4d-c982-4919-8fd1-409b10a7bbc6",
     "showTitle": false,
     "title": ""
    }
   },
   "outputs": [],
   "source": [
    "# Drop columns and overwrite table\n",
    "to_drop_wrong = [\"gender\", \"SeniorCitizen\"]\n",
    "telco_dropped_df = telco_df.drop(*to_drop_wrong)\n",
    "\n",
    "telco_dropped_df.write.mode(\"overwrite\").option(\"overwriteSchema\", True).saveAsTable(table_name_bronze)"
   ]
  },
  {
   "cell_type": "markdown",
   "metadata": {
    "application/vnd.databricks.v1+cell": {
     "cellMetadata": {},
     "inputWidgets": {},
     "nuid": "8698f9ec-d17d-46cf-8a63-f1755ca89ee0",
     "showTitle": false,
     "title": ""
    }
   },
   "source": [
    "### Reverting Changes by Version\n",
    "\n",
    "What to do, if we drop a column by mistake?\n",
    "\n",
    "With Delta's powerful time-travel feature, we can seamlessly revert to a previous version of our dataset. Let's initiate this process by using the **'`DESCRIBE HISTORY`'** SQL command. This command provides us with a comprehensive history of changes, allowing us to pinpoint the version where '`SeniorCitizen`' was still part of our dataset. \n",
    "\n",
    "Let's explore and revert our unintentional omission."
   ]
  },
  {
   "cell_type": "code",
   "execution_count": 0,
   "metadata": {
    "application/vnd.databricks.v1+cell": {
     "cellMetadata": {},
     "inputWidgets": {},
     "nuid": "b3d9103b-1af8-4e6b-9638-6946b5abfabe",
     "showTitle": false,
     "title": ""
    }
   },
   "outputs": [],
   "source": [
    "%sql\n",
    "DESCRIBE HISTORY telco_missing_bronze"
   ]
  },
  {
   "cell_type": "markdown",
   "metadata": {
    "application/vnd.databricks.v1+cell": {
     "cellMetadata": {},
     "inputWidgets": {},
     "nuid": "2ea21107-dbdb-44a2-8034-d0e719ffb2ee",
     "showTitle": false,
     "title": ""
    }
   },
   "source": [
    "Examine the schema to validate whether columns were dropped, specifically verifying if the 'gender' & 'SeniorCitizen' columns have been removed."
   ]
  },
  {
   "cell_type": "code",
   "execution_count": 0,
   "metadata": {
    "application/vnd.databricks.v1+cell": {
     "cellMetadata": {},
     "inputWidgets": {},
     "nuid": "fd3605b7-3bdb-49d2-ab4d-87b893a04bca",
     "showTitle": false,
     "title": ""
    }
   },
   "outputs": [],
   "source": [
    "spark.table(table_name_bronze).printSchema()"
   ]
  },
  {
   "cell_type": "markdown",
   "metadata": {
    "application/vnd.databricks.v1+cell": {
     "cellMetadata": {},
     "inputWidgets": {},
     "nuid": "5077a9fb-ff64-4858-bde3-5d77d8ad141f",
     "showTitle": false,
     "title": ""
    }
   },
   "source": [
    "or use the sql `DESCRIBE` method"
   ]
  },
  {
   "cell_type": "code",
   "execution_count": 0,
   "metadata": {
    "application/vnd.databricks.v1+cell": {
     "cellMetadata": {},
     "inputWidgets": {},
     "nuid": "ab1bc99c-d4e9-4341-b455-e9c9c8fd1794",
     "showTitle": false,
     "title": ""
    }
   },
   "outputs": [],
   "source": [
    "%sql\n",
    "DESCRIBE `telco_missing_bronze`;"
   ]
  },
  {
   "cell_type": "markdown",
   "metadata": {
    "application/vnd.databricks.v1+cell": {
     "cellMetadata": {},
     "inputWidgets": {},
     "nuid": "8cc5a533-0f3b-457f-9a02-60ad6c97636f",
     "showTitle": false,
     "title": ""
    }
   },
   "source": [
    "\n",
    "### Reverting Changes by Version\n",
    " \n",
    "As we can see in the **`operation`** column in version 1, the table was overwritten, leading to the unintentional removal of columns. To rectify this, we must now perform a time-travel operation, reverting to version 0, to retrieve the table with all the original columns intact."
   ]
  },
  {
   "cell_type": "code",
   "execution_count": 0,
   "metadata": {
    "application/vnd.databricks.v1+cell": {
     "cellMetadata": {},
     "inputWidgets": {},
     "nuid": "21565d22-63d2-4489-8895-2dad9714f981",
     "showTitle": false,
     "title": ""
    }
   },
   "outputs": [],
   "source": [
    "telco_df_v0 = (\n",
    "  spark.read\n",
    "      .option(\"versionAsOf\", 0)\n",
    "      .table(table_name_bronze)\n",
    ")\n",
    "\n",
    "telco_df_v0.printSchema()"
   ]
  },
  {
   "cell_type": "markdown",
   "metadata": {
    "application/vnd.databricks.v1+cell": {
     "cellMetadata": {},
     "inputWidgets": {},
     "nuid": "36446444-aac0-4981-b486-2fdb50a035a3",
     "showTitle": false,
     "title": ""
    }
   },
   "source": [
    "\n",
    "### Reverting Changes by Timestamp\n",
    "\n",
    "You can also query based upon **`timestamp`**.  \n",
    "\n",
    "**Note that the ability to query an older snapshot of a table (time travel) is lost after running <a href=\"https://docs.databricks.com/delta/delta-batch.html#deltatimetravel\" target=\"_blank\">a VACUUM command.</a>**"
   ]
  },
  {
   "cell_type": "code",
   "execution_count": 0,
   "metadata": {
    "application/vnd.databricks.v1+cell": {
     "cellMetadata": {},
     "inputWidgets": {},
     "nuid": "775ceb4e-93f5-466c-a503-48b68753507f",
     "showTitle": false,
     "title": ""
    }
   },
   "outputs": [],
   "source": [
    "# Extract timestamp of first version (can also be set manually)\n",
    "timestamp_v0 = spark.sql(f\"DESCRIBE HISTORY telco_missing_bronze\").orderBy(\"version\").first().timestamp\n",
    "print(timestamp_v0)"
   ]
  },
  {
   "cell_type": "code",
   "execution_count": 0,
   "metadata": {
    "application/vnd.databricks.v1+cell": {
     "cellMetadata": {},
     "inputWidgets": {},
     "nuid": "4093d797-af9e-4b6c-bf69-a3454c92fa0b",
     "showTitle": false,
     "title": ""
    }
   },
   "outputs": [],
   "source": [
    "(spark\n",
    "        .read\n",
    "        .option(\"timestampAsOf\", timestamp_v0)\n",
    "        .table(\"telco_missing_bronze\")\n",
    "        .printSchema()\n",
    ")"
   ]
  },
  {
   "cell_type": "markdown",
   "metadata": {
    "application/vnd.databricks.v1+cell": {
     "cellMetadata": {},
     "inputWidgets": {},
     "nuid": "707c937e-d281-47c1-a382-e411f9da36d8",
     "showTitle": false,
     "title": ""
    }
   },
   "source": [
    "Based on original version we can specifically drop the the correct columns of disinterest and save the table again"
   ]
  },
  {
   "cell_type": "code",
   "execution_count": 0,
   "metadata": {
    "application/vnd.databricks.v1+cell": {
     "cellMetadata": {},
     "inputWidgets": {},
     "nuid": "22773969-c198-4717-88d4-13cf9494f191",
     "showTitle": false,
     "title": ""
    }
   },
   "outputs": [],
   "source": [
    "to_drop = ['']\n",
    "telco_dropped_df = telco_df_v0.drop(*to_drop)\n",
    "\n",
    "telco_dropped_df.write.mode(\"overwrite\").option(\"overwriteSchema\", True).saveAsTable(table_name_bronze)"
   ]
  },
  {
   "cell_type": "markdown",
   "metadata": {
    "application/vnd.databricks.v1+cell": {
     "cellMetadata": {},
     "inputWidgets": {},
     "nuid": "12ac0437-13db-4ef7-a041-16db90850e86",
     "showTitle": false,
     "title": ""
    }
   },
   "source": [
    "\n",
    "Version 2 is our latest and most accurate table version."
   ]
  },
  {
   "cell_type": "code",
   "execution_count": 0,
   "metadata": {
    "application/vnd.databricks.v1+cell": {
     "cellMetadata": {},
     "inputWidgets": {},
     "nuid": "bc2bca84-f472-4daa-91fb-67719df60b72",
     "showTitle": false,
     "title": ""
    }
   },
   "outputs": [],
   "source": [
    "%sql\n",
    "DESCRIBE HISTORY `telco_missing_bronze`;"
   ]
  },
  {
   "cell_type": "markdown",
   "metadata": {
    "application/vnd.databricks.v1+cell": {
     "cellMetadata": {},
     "inputWidgets": {},
     "nuid": "0c7a8cc3-3abb-49ed-8176-ce9a55474b3d",
     "showTitle": false,
     "title": ""
    }
   },
   "source": [
    "\n",
    "## Clean up Classroom\n",
    "\n",
    "Run the following cell to remove lessons-specific assets created during this lesson."
   ]
  },
  {
   "cell_type": "code",
   "execution_count": 0,
   "metadata": {
    "application/vnd.databricks.v1+cell": {
     "cellMetadata": {},
     "inputWidgets": {},
     "nuid": "2d232bee-a7b2-44d0-af40-599e6c770b75",
     "showTitle": false,
     "title": ""
    }
   },
   "outputs": [],
   "source": [
    "DA.cleanup()"
   ]
  },
  {
   "cell_type": "markdown",
   "metadata": {
    "application/vnd.databricks.v1+cell": {
     "cellMetadata": {},
     "inputWidgets": {},
     "nuid": "211d71b8-7bd5-4c0f-8de2-3f5cb19394fe",
     "showTitle": false,
     "title": ""
    }
   },
   "source": [
    "\n",
    "## Conclusion\n",
    "\n",
    "This demo successfully navigated the essential aspects of data management and exploration using Delta tables and Pandas. We seamlessly read and wrote data, performed time-travel operations for versioning, and computed insightful statistics for machine learning. The integrated visualizations, including correlation matrices and pair plots, provided a deeper understanding of the Telco dataset. By showcasing the power of Delta and Pandas, we've equipped ourselves with valuable tools to efficiently manage, analyze, and derive meaningful insights from our data."
   ]
  },
  {
   "cell_type": "markdown",
   "metadata": {
    "application/vnd.databricks.v1+cell": {
     "cellMetadata": {},
     "inputWidgets": {},
     "nuid": "9a3d334c-cedf-4471-837e-a84c3bba0723",
     "showTitle": false,
     "title": ""
    }
   },
   "source": [
    "&copy; 2024 Databricks, Inc. All rights reserved.<br/>\n",
    "Apache, Apache Spark, Spark and the Spark logo are trademarks of the <a href=\"https://www.apache.org/\">Apache Software Foundation</a>.<br/>\n",
    "<br/>\n",
    "<a href=\"https://databricks.com/privacy-policy\">Privacy Policy</a> | <a href=\"https://databricks.com/terms-of-use\">Terms of Use</a> | <a href=\"https://help.databricks.com/\">Support</a>"
   ]
  }
 ],
 "metadata": {
  "application/vnd.databricks.v1+notebook": {
   "dashboards": [],
   "environmentMetadata": null,
   "language": "python",
   "notebookMetadata": {
    "pythonIndentUnit": 4
   },
   "notebookName": "1.1 - Load and Explore Data",
   "widgets": {}
  }
 },
 "nbformat": 4,
 "nbformat_minor": 0
}
